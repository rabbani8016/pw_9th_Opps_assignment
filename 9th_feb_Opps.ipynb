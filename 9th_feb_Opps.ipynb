{
 "cells": [
  {
   "cell_type": "markdown",
   "id": "082b8110-000a-44e4-8d2d-bb12b1a5db61",
   "metadata": {},
   "source": [
    "Q1, Create a vehicle class with an init method having instance variables as name_of_vehicle, max_speed\n",
    "and average_of_vehicle."
   ]
  },
  {
   "cell_type": "code",
   "execution_count": 5,
   "id": "1250d45c-4379-4c8a-9729-0b2c32efa20c",
   "metadata": {},
   "outputs": [],
   "source": [
    "class vehicle:\n",
    "    \n",
    "    def __init__(self,name_of_vehicle, max_speed, average_of_vehicle):\n",
    "        self.name_of_vehicle = name_of_vehicle\n",
    "        self.max_speed = max_speed\n",
    "        self.average_of_vehicle = average_of_vehicle\n",
    "            "
   ]
  },
  {
   "cell_type": "code",
   "execution_count": 8,
   "id": "90aaa68c-192a-41d3-8dfb-e634d591f58f",
   "metadata": {},
   "outputs": [],
   "source": [
    "a = vehicle('honda', 100, '50km')"
   ]
  },
  {
   "cell_type": "code",
   "execution_count": 10,
   "id": "f7797994-69a6-4417-bc6a-fd06e5979cb4",
   "metadata": {},
   "outputs": [
    {
     "data": {
      "text/plain": [
       "'honda'"
      ]
     },
     "execution_count": 10,
     "metadata": {},
     "output_type": "execute_result"
    }
   ],
   "source": [
    "a.name_of_vehicle"
   ]
  },
  {
   "cell_type": "code",
   "execution_count": 11,
   "id": "e115904d-d153-4de8-8861-3df09ac3705b",
   "metadata": {},
   "outputs": [
    {
     "data": {
      "text/plain": [
       "100"
      ]
     },
     "execution_count": 11,
     "metadata": {},
     "output_type": "execute_result"
    }
   ],
   "source": [
    "a.max_speed"
   ]
  },
  {
   "cell_type": "markdown",
   "id": "dd930b73-5542-4360-90b0-1040c7b49617",
   "metadata": {},
   "source": [
    "Q2. Create a child class car from the vehicle class created in Que 1, which will inherit the vehicle class.\n",
    "Create a method named seating_capacity which takes capacity as an argument and returns the name of\n",
    "the vehicle and its seating capacity."
   ]
  },
  {
   "cell_type": "code",
   "execution_count": 6,
   "id": "2a2fac7d-f1d5-43ac-8736-59937ec45918",
   "metadata": {},
   "outputs": [],
   "source": [
    "class Vehicle:\n",
    "    def __init__(self, make, model):\n",
    "        self.make = make\n",
    "        self.model = model\n",
    "\n",
    "    def display_info(self):\n",
    "        print(f\"{self.make} {self.model}\")\n",
    "        "
   ]
  },
  {
   "cell_type": "code",
   "execution_count": 7,
   "id": "abf217a3-f5bb-483f-ac35-ec1a845db301",
   "metadata": {},
   "outputs": [
    {
     "name": "stdout",
     "output_type": "stream",
     "text": [
      "Brand Model\n",
      "Toyota Camry\n",
      "Toyota Camry - Seating Capacity: 5\n"
     ]
    }
   ],
   "source": [
    "class Car(Vehicle):\n",
    "    def __init__(self, make, model):\n",
    "        super().__init__(make, model)\n",
    "        self.capacity = 0  # Default capacity\n",
    "\n",
    "    def seating_capacity(self, capacity):\n",
    "        self.capacity = capacity\n",
    "        return f\"{self.make} {self.model} - Seating Capacity: {self.capacity}\"\n",
    "\n",
    "# Example usage\n",
    "vehicle = Vehicle(\"Brand\", \"Model\")\n",
    "vehicle.display_info()\n",
    "\n",
    "car = Car(\"Toyota\", \"Camry\")\n",
    "car.display_info()\n",
    "\n",
    "seating_info = car.seating_capacity(5)\n",
    "print(seating_info)  # Output: Toyota Camry - Seating Capacity: 5"
   ]
  },
  {
   "cell_type": "markdown",
   "id": "95844e9e-f4ec-4d6d-a082-eed80e13a945",
   "metadata": {},
   "source": [
    "Q3. What is multiple inheritance? Write a python code to demonstrate multiple inheritance.\n"
   ]
  },
  {
   "cell_type": "code",
   "execution_count": 13,
   "id": "9cb69de9-1d7d-4de4-ab8d-a4740586cdbf",
   "metadata": {},
   "outputs": [],
   "source": [
    "class Engine:\n",
    "    def start(self):\n",
    "        print(\"Engine started.\")\n",
    "\n",
    "class ElectricMotor:\n",
    "    def run_on_electricity(self):\n",
    "        print(\"Running on electricity.\")\n",
    "\n",
    "# Child class inheriting from both Engine and ElectricMotor\n",
    "class HybridCar(Engine, ElectricMotor):\n",
    "    def drive(self):\n",
    "        print(\"Hybrid car is ready to drive.\")"
   ]
  },
  {
   "cell_type": "code",
   "execution_count": 15,
   "id": "8329bed6-47ec-438d-ab02-ee368dc3cad7",
   "metadata": {},
   "outputs": [],
   "source": [
    "a = HybridCar()"
   ]
  },
  {
   "cell_type": "code",
   "execution_count": 17,
   "id": "43f32347-04cd-41a9-a117-5d819e1f38fd",
   "metadata": {},
   "outputs": [
    {
     "name": "stdout",
     "output_type": "stream",
     "text": [
      "Engine started.\n"
     ]
    }
   ],
   "source": [
    "a.start()"
   ]
  },
  {
   "cell_type": "code",
   "execution_count": 18,
   "id": "7a1a61fb-193e-48a1-9168-528da528f732",
   "metadata": {},
   "outputs": [
    {
     "name": "stdout",
     "output_type": "stream",
     "text": [
      "Running on electricity.\n"
     ]
    }
   ],
   "source": [
    "a.run_on_electricity()"
   ]
  },
  {
   "cell_type": "markdown",
   "id": "49121c8d-980d-45fa-b979-c2e879aedff1",
   "metadata": {},
   "source": [
    "Q4. What are getter and setter in python? Create a class and create a getter and a setter method in this\n",
    "class."
   ]
  },
  {
   "cell_type": "code",
   "execution_count": 5,
   "id": "7669b917-d8c3-40bf-aaed-7ceec6ac637e",
   "metadata": {},
   "outputs": [
    {
     "name": "stdout",
     "output_type": "stream",
     "text": [
      "Name: John Doe\n",
      "Age: 30\n",
      "Age cannot be negative. Setting age to 0.\n",
      "Updated Name: Rabbani\n",
      "Updated Age: 30\n",
      "Age after invalid set: 30\n"
     ]
    }
   ],
   "source": [
    "'''In Python, getters and setters are methods used to access and modify the private attributes of a class.\n",
    "They provide a way to encapsulate the access to class\n",
    "attributes, allowing for more controlled access and modification.'''\n",
    "\n",
    "\n",
    "\n",
    "\n",
    "class Student:\n",
    "    def __init__(self, name, age):\n",
    "        self._name = name \n",
    "        self._age = age\n",
    "\n",
    "    # Getter method for 'name'\n",
    "    def get_name(self):\n",
    "        return self._name\n",
    "\n",
    "    # Setter method for 'name'\n",
    "    def set_name(self, name):\n",
    "        self._name = name\n",
    "\n",
    "    # Getter method for 'age'\n",
    "    def get_age(self):\n",
    "        return self._age\n",
    "\n",
    "    # Setter method for 'age'\n",
    "    def set_age(self, age):\n",
    "        if age >= 0:  # Adding validation for age to be non-negative\n",
    "            self._age = age\n",
    "        else:\n",
    "            print(\"Age cannot be negative. Setting age to 0.\")\n",
    "\n",
    "# Creating an instance of the class\n",
    "student = Student(\"John Doe\", 30)\n",
    "\n",
    "# Using the getter methods\n",
    "print(\"Name:\", student.get_name()) \n",
    "print(\"Age:\", student.get_age())    \n",
    "\n",
    "# Using the setter methods\n",
    "student.set_name(\"Rabbani\")\n",
    "student.set_age(-5) \n",
    "\n",
    "\n",
    "print(\"Updated Name:\", student.get_name()) \n",
    "print(\"Updated Age:\", student.get_age())    \n",
    "print(\"Age after invalid set:\", student.get_age())  \n"
   ]
  },
  {
   "cell_type": "code",
   "execution_count": null,
   "id": "07fb95bb-c2c8-4188-bdc3-5186687e4659",
   "metadata": {},
   "outputs": [],
   "source": []
  },
  {
   "cell_type": "code",
   "execution_count": null,
   "id": "9d5b6bcc-eb74-41e9-afff-c81ad128140f",
   "metadata": {},
   "outputs": [],
   "source": []
  },
  {
   "cell_type": "code",
   "execution_count": null,
   "id": "3a53e5e8-a41a-4420-9c6d-23215b3ca4b1",
   "metadata": {},
   "outputs": [],
   "source": []
  },
  {
   "cell_type": "markdown",
   "id": "c3c142c1-9806-403d-8392-fa8a97888ad5",
   "metadata": {},
   "source": [
    "Q5.What is method overriding in python? Write a python code to demonstrate method overriding."
   ]
  },
  {
   "cell_type": "markdown",
   "id": "05ce35a3-4dba-4aae-9112-656433bde5d2",
   "metadata": {},
   "source": [
    "'''Method overriding in Python occurs when a subclass provides a specific implementation for a \n",
    "method that is already defined in its superclass. This allows\n",
    "the subclass to provide a specialized version of the method, while still maintaining the same method signature as the superclass.'''"
   ]
  },
  {
   "cell_type": "code",
   "execution_count": 43,
   "id": "5a3f51c4-a5e9-45dc-852d-ed8dde231c22",
   "metadata": {},
   "outputs": [],
   "source": [
    "class Animal:\n",
    "    def speak(self):\n",
    "        print(\"Animal speaks\")\n",
    "\n",
    "class Dog(Animal):\n",
    "    def speak(self):\n",
    "        print(\"Dog barks\")\n",
    "\n",
    "class Cat(Animal):\n",
    "    def speak(self):\n",
    "        print(\"Cat meows\")\n"
   ]
  },
  {
   "cell_type": "code",
   "execution_count": 44,
   "id": "24410f50-56ad-4b4a-aebd-856ae3e8c66b",
   "metadata": {},
   "outputs": [],
   "source": [
    "ab = Cat()"
   ]
  },
  {
   "cell_type": "code",
   "execution_count": 45,
   "id": "11b59044-6772-4d22-8cb6-758b779224e0",
   "metadata": {},
   "outputs": [
    {
     "name": "stdout",
     "output_type": "stream",
     "text": [
      "Cat meows\n"
     ]
    }
   ],
   "source": [
    "ab.speak()"
   ]
  },
  {
   "cell_type": "code",
   "execution_count": 47,
   "id": "f8832625-4a60-4b50-b952-d71d83de36ed",
   "metadata": {},
   "outputs": [],
   "source": [
    "cd = Dog()"
   ]
  },
  {
   "cell_type": "code",
   "execution_count": 48,
   "id": "309fc180-ad88-4295-8d50-1ca316a8b9a1",
   "metadata": {},
   "outputs": [
    {
     "name": "stdout",
     "output_type": "stream",
     "text": [
      "Dog barks\n"
     ]
    }
   ],
   "source": [
    "cd.speak()"
   ]
  },
  {
   "cell_type": "code",
   "execution_count": null,
   "id": "558bcb16-9abb-440b-9b14-ef1530d2de1e",
   "metadata": {},
   "outputs": [],
   "source": []
  }
 ],
 "metadata": {
  "kernelspec": {
   "display_name": "Python 3 (ipykernel)",
   "language": "python",
   "name": "python3"
  },
  "language_info": {
   "codemirror_mode": {
    "name": "ipython",
    "version": 3
   },
   "file_extension": ".py",
   "mimetype": "text/x-python",
   "name": "python",
   "nbconvert_exporter": "python",
   "pygments_lexer": "ipython3",
   "version": "3.10.8"
  }
 },
 "nbformat": 4,
 "nbformat_minor": 5
}
